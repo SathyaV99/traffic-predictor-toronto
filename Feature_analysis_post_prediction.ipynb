{
 "cells": [
  {
   "cell_type": "code",
   "execution_count": 7,
   "id": "0b0bd6ca-1afc-4e8d-af5a-33de8107b553",
   "metadata": {},
   "outputs": [
    {
     "name": "stdout",
     "output_type": "stream",
     "text": [
      "Accuracy: 0.4846\n",
      "F1 Score: 0.3852\n",
      "Precision: 0.3451\n",
      "Recall: 0.4846\n",
      "\n",
      "📊 Feature Importances:\n",
      "Month: 0.1284\n",
      "Day: 0.0011\n",
      "day_of_week: 0.0204\n",
      "is_weekend: 0.0311\n",
      "Mean_Temp_C: 0.1097\n",
      "Total_Precip_mm: 0.0027\n",
      "camera_vec: 0.0000\n",
      "road_vec: 0.0000\n"
     ]
    }
   ],
   "source": [
    "from pyspark.sql import SparkSession\n",
    "from pyspark.ml.tuning import CrossValidatorModel\n",
    "from pyspark.ml.evaluation import MulticlassClassificationEvaluator\n",
    "\n",
    "# 1. Start Spark session\n",
    "spark = SparkSession.builder \\\n",
    "    .appName(\"Traffic Status Evaluation\") \\\n",
    "    .getOrCreate()\n",
    "\n",
    "# 2. Load model\n",
    "cv_model = CrossValidatorModel.load(\"traffic_status_rf_model\")\n",
    "rf_model = cv_model.bestModel.stages[-1]  # Get the final RandomForest model\n",
    "\n",
    "# 3. Load predictions\n",
    "predictions = spark.read.parquet(\"traffic_status_predictions.parquet\")\n",
    "\n",
    "# 4. Evaluate metrics\n",
    "metrics = {\n",
    "    \"Accuracy\": \"accuracy\",\n",
    "    \"F1 Score\": \"f1\",\n",
    "    \"Precision\": \"weightedPrecision\",\n",
    "    \"Recall\": \"weightedRecall\"\n",
    "}\n",
    "\n",
    "for name, metric in metrics.items():\n",
    "    evaluator = MulticlassClassificationEvaluator(\n",
    "        labelCol=\"label\", predictionCol=\"prediction\", metricName=metric\n",
    "    )\n",
    "    score = evaluator.evaluate(predictions)\n",
    "    print(f\"{name}: {score:.4f}\")\n",
    "\n",
    "# 5. Extract full feature importances\n",
    "# Get feature names from pipeline\n",
    "assembler = cv_model.bestModel.stages[4]  # Index of VectorAssembler\n",
    "feature_names = assembler.getInputCols()\n",
    "\n",
    "# Get importances from RandomForest model\n",
    "importances = rf_model.featureImportances.toArray()\n",
    "\n",
    "# Print feature importances\n",
    "print(\"\\n📊 Feature Importances:\")\n",
    "for name, score in zip(feature_names, importances):\n",
    "    print(f\"{name}: {score:.4f}\")\n"
   ]
  },
  {
   "cell_type": "code",
   "execution_count": 8,
   "id": "2a3da44f-dbe7-4dbd-8d46-48fcaea74feb",
   "metadata": {},
   "outputs": [
    {
     "data": {
      "text/plain": [
       "[StringIndexerModel: uid=StringIndexer_a80b13bc95c1, handleInvalid=keep,\n",
       " OneHotEncoderModel: uid=OneHotEncoder_2959f3a12b91, dropLast=true, handleInvalid=error,\n",
       " StringIndexerModel: uid=StringIndexer_2c51e5ab93cc, handleInvalid=keep,\n",
       " OneHotEncoderModel: uid=OneHotEncoder_f279c407b5a0, dropLast=true, handleInvalid=error,\n",
       " VectorAssembler_894ea8ad1ed7,\n",
       " StringIndexerModel: uid=StringIndexer_4a02c2b442fd, handleInvalid=keep,\n",
       " RandomForestClassificationModel: uid=RandomForestClassifier_32899780674b, numTrees=100, numClasses=4, numFeatures=641]"
      ]
     },
     "execution_count": 8,
     "metadata": {},
     "output_type": "execute_result"
    }
   ],
   "source": [
    "cv_model.bestModel.stages"
   ]
  },
  {
   "cell_type": "code",
   "execution_count": 9,
   "id": "91862f07-62b4-49b8-90ab-49a3feb8b32a",
   "metadata": {},
   "outputs": [
    {
     "name": "stdout",
     "output_type": "stream",
     "text": [
      "+--------------------------------------------------------+-----+----------+\n",
      "|features                                                |label|prediction|\n",
      "+--------------------------------------------------------+-----+----------+\n",
      "|(641,[0,1,2,4,5,235,551],[2.0,3.0,5.0,-6.8,4.2,1.0,1.0])|0.0  |0.0       |\n",
      "|(641,[0,1,2,4,5,172,501],[2.0,3.0,5.0,-6.8,4.2,1.0,1.0])|1.0  |0.0       |\n",
      "|(641,[0,1,2,4,5,321,624],[2.0,3.0,5.0,-6.8,4.2,1.0,1.0])|0.0  |0.0       |\n",
      "|(641,[0,1,2,4,5,181,356],[2.0,3.0,5.0,-6.8,4.2,1.0,1.0])|0.0  |0.0       |\n",
      "|(641,[0,1,2,4,5,100,444],[2.0,3.0,5.0,-6.8,4.2,1.0,1.0])|1.0  |0.0       |\n",
      "|(641,[0,1,2,4,5,51,403],[2.0,3.0,5.0,-6.8,4.2,1.0,1.0]) |0.0  |0.0       |\n",
      "|(641,[0,1,2,4,5,224,540],[2.0,3.0,5.0,-6.8,4.2,1.0,1.0])|0.0  |0.0       |\n",
      "|(641,[0,1,2,4,5,225,542],[2.0,3.0,5.0,-6.8,4.2,1.0,1.0])|1.0  |0.0       |\n",
      "|(641,[0,1,2,4,5,47,401],[2.0,3.0,5.0,-6.8,4.2,1.0,1.0]) |0.0  |0.0       |\n",
      "|(641,[0,1,2,4,5,152,486],[2.0,3.0,5.0,-6.8,4.2,1.0,1.0])|0.0  |0.0       |\n",
      "|(641,[0,1,2,4,5,12,374],[2.0,3.0,5.0,-6.8,4.2,1.0,1.0]) |0.0  |0.0       |\n",
      "|(641,[0,1,2,4,5,55,410],[2.0,3.0,5.0,-6.8,4.2,1.0,1.0]) |0.0  |0.0       |\n",
      "|(641,[0,1,2,4,5,42,398],[2.0,3.0,5.0,-6.8,4.2,1.0,1.0]) |0.0  |0.0       |\n",
      "|(641,[0,1,2,4,5,203,355],[2.0,3.0,5.0,-6.8,4.2,1.0,1.0])|0.0  |0.0       |\n",
      "|(641,[0,1,2,4,5,43,397],[2.0,3.0,5.0,-6.8,4.2,1.0,1.0]) |1.0  |0.0       |\n",
      "|(641,[0,1,2,4,5,198,521],[2.0,3.0,5.0,-6.8,4.2,1.0,1.0])|1.0  |0.0       |\n",
      "|(641,[0,1,2,4,5,290,594],[2.0,3.0,5.0,-6.8,4.2,1.0,1.0])|1.0  |0.0       |\n",
      "|(641,[0,1,2,4,5,54,408],[2.0,3.0,5.0,-6.8,4.2,1.0,1.0]) |0.0  |0.0       |\n",
      "|(641,[0,1,2,4,5,299,602],[2.0,3.0,5.0,-6.8,4.2,1.0,1.0])|0.0  |0.0       |\n",
      "|(641,[0,1,2,4,5,96,442],[2.0,3.0,5.0,-6.8,4.2,1.0,1.0]) |0.0  |0.0       |\n",
      "+--------------------------------------------------------+-----+----------+\n",
      "only showing top 20 rows\n",
      "\n"
     ]
    }
   ],
   "source": [
    "predictions.select(\"features\", \"label\", \"prediction\").show(truncate=False)\n"
   ]
  }
 ],
 "metadata": {
  "kernelspec": {
   "display_name": "Spark (PySpark)",
   "language": "python",
   "name": "spark-venv"
  },
  "language_info": {
   "codemirror_mode": {
    "name": "ipython",
    "version": 3
   },
   "file_extension": ".py",
   "mimetype": "text/x-python",
   "name": "python",
   "nbconvert_exporter": "python",
   "pygments_lexer": "ipython3",
   "version": "3.12.3"
  }
 },
 "nbformat": 4,
 "nbformat_minor": 5
}
